{
 "cells": [
  {
   "cell_type": "markdown",
   "metadata": {},
   "source": [
    "# 图像人脸检测"
   ]
  },
  {
   "cell_type": "markdown",
   "metadata": {},
   "source": [
    "### 准备工作"
   ]
  },
  {
   "cell_type": "code",
   "execution_count": 1,
   "metadata": {},
   "outputs": [],
   "source": [
    "import cv2\n",
    "import cv2 as cv"
   ]
  },
  {
   "cell_type": "markdown",
   "metadata": {},
   "source": [
    "## 1、图像多人脸检测"
   ]
  },
  {
   "cell_type": "code",
   "execution_count": 2,
   "metadata": {},
   "outputs": [
    {
     "name": "stdout",
     "output_type": "stream",
     "text": [
      "检测人脸信息如下：\n",
      " [[760 341 391 391]]\n"
     ]
    }
   ],
   "source": [
    "def face_detection(image):\n",
    "\t# 转成灰度图像\n",
    "    gray = cv.cvtColor(image, cv.COLOR_BGR2GRAY)\n",
    "    # 创建一个级联分类器 加载一个.xml分类器文件 它既可以是Haar特征也可以是LBP特征的分类器\n",
    "    face_detecter = cv.CascadeClassifier(r'./face_detection/haarcascades/haarcascade_frontalface_default.xml')\n",
    "    # 多个尺度空间进行人脸检测   返回检测到的人脸区域坐标信息\n",
    "    faces = face_detecter.detectMultiScale(image=gray, scaleFactor=1.1, minNeighbors=5)\n",
    "    print('检测人脸信息如下：\\n', faces)\n",
    "    for x, y, w, h in faces:\n",
    "        # 在原图像上绘制矩形标识\n",
    "        cv.rectangle(img=image, pt1=(x, y), pt2=(x+w, y+h), color=(0, 0, 255), thickness=2)\n",
    "    cv.imshow('result', image)\n",
    "\n",
    "\n",
    "src = cv.imread(r'./test_picture/test (23).jpg')\n",
    "cv.imshow('input image', src)\n",
    "face_detection(src)\n",
    "cv.waitKey(0)\n",
    "cv.destroyAllWindows()\n"
   ]
  },
  {
   "cell_type": "markdown",
   "metadata": {},
   "source": [
    "## 2、视频中人脸检测"
   ]
  },
  {
   "cell_type": "code",
   "execution_count": 7,
   "metadata": {},
   "outputs": [],
   "source": [
    "# 加载视频\n",
    "cap = cv2.VideoCapture(r'./test_video/范伸友-2020.11.28-视频.mp4')\n",
    "# 创建一个级联分类器 加载一个.xml分类器文件 它既可以是Haar特征也可以是LBP特征的分类器\n",
    "face_detect = cv2.CascadeClassifier(r'./face_detection/haarcascades/haarcascade_frontalface_default.xml')\n",
    "\n",
    "while True:\n",
    "    # 读取视频片段\n",
    "    ret, frame = cap.read()\n",
    "    if not ret:  # 读完视频后falg返回False\n",
    "        break\n",
    "    frame = cv2.resize(frame, None, fx=0.5, fy=0.5)\n",
    "    # 灰度处理\n",
    "    gray = cv2.cvtColor(frame, cv2.COLOR_BGR2GRAY)\n",
    "    # 多个尺度空间进行人脸检测   返回检测到的人脸区域坐标信息\n",
    "    face_zone = face_detect.detectMultiScale(gray, scaleFactor=1.1, minNeighbors=8)\n",
    "    # 绘制矩形和圆形检测人脸\n",
    "    for x, y, w, h in face_zone:\n",
    "        cv2.rectangle(frame, pt1=(x, y), pt2=(x + w, y + h), color=[0, 0, 255], thickness=2)\n",
    "        cv2.circle(frame, center=(x + w // 2, y + h // 2), radius=w // 2, color=[0, 255, 0], thickness=2)\n",
    "    # 显示图片\n",
    "    cv2.imshow('video', frame)\n",
    "    # 设置退出键和展示频率\n",
    "    if ord('q') == cv2.waitKey(40):\n",
    "        break\n",
    "\n",
    "# 释放资源\n",
    "cv2.destroyAllWindows()\n",
    "cap.release()\n"
   ]
  },
  {
   "cell_type": "markdown",
   "metadata": {},
   "source": [
    "## 3、摄像头人脸检测"
   ]
  },
  {
   "cell_type": "code",
   "execution_count": null,
   "metadata": {},
   "outputs": [],
   "source": [
    "# 识别电脑摄像头并打开\n",
    "cap = cv.VideoCapture(0, cv.CAP_DSHOW)\n",
    "# 创建一个级联分类器 加载一个.xml分类器文件 它既可以是Haar特征也可以是LBP特征的分类器\n",
    "face_detect = cv.CascadeClassifier(r'./face_detection/haarcascades/haarcascade_frontalface_default.xml')\n",
    "\n",
    "while True:\n",
    "    # 读取视频片段\n",
    "    flag, frame = cap.read()\n",
    "    frame = cv.flip(frame, 1)\n",
    "    if not flag:   # 读完视频后falg返回False\n",
    "        break\n",
    "    # 灰度处理\n",
    "    gray = cv.cvtColor(frame, cv.COLOR_BGR2GRAY)\n",
    "    # 多个尺度空间进行人脸检测   返回检测到的人脸区域坐标信息\n",
    "    face_zone = face_detect.detectMultiScale(gray, scaleFactor=1.1, minNeighbors=5)\n",
    "    # 绘制矩形和圆形检测人脸\n",
    "    for x, y, w, h in face_zone:\n",
    "        cv.rectangle(frame, pt1=(x, y), pt2=(x + w, y + h), color=[0, 0, 255], thickness=2)\n",
    "        cv.circle(frame, center=(x + w // 2, y + h // 2), radius=w // 2, color=[0, 255, 0], thickness=2)\n",
    "    # 显示图片\n",
    "    cv.imshow('video', frame)\n",
    "    # 设置退出键q 展示频率\n",
    "    if ord('q') == cv.waitKey(30):\n",
    "        break\n",
    "\n",
    "# 释放资源\n",
    "cv.destroyAllWindows()\n",
    "cap.release()\n"
   ]
  },
  {
   "cell_type": "code",
   "execution_count": null,
   "metadata": {},
   "outputs": [],
   "source": []
  }
 ],
 "metadata": {
  "kernelspec": {
   "display_name": "Python 3",
   "language": "python",
   "name": "python3"
  },
  "language_info": {
   "codemirror_mode": {
    "name": "ipython",
    "version": 3
   },
   "file_extension": ".py",
   "mimetype": "text/x-python",
   "name": "python",
   "nbconvert_exporter": "python",
   "pygments_lexer": "ipython3",
   "version": "3.8.5"
  }
 },
 "nbformat": 4,
 "nbformat_minor": 4
}
